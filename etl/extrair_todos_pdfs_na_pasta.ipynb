{
 "cells": [
  {
   "cell_type": "code",
   "execution_count": 1,
   "id": "3765f396",
   "metadata": {},
   "outputs": [],
   "source": [
    "import tabula # biblioteca para conversão de tabelas em pdf para DataFrames\n",
    "from PyPDF2 import PdfReader # biblioteca para leitura de pdf\n",
    "import pandas as pd\n",
    "import os"
   ]
  },
  {
   "cell_type": "code",
   "execution_count": 2,
   "id": "8bd500ba",
   "metadata": {},
   "outputs": [
    {
     "name": "stderr",
     "output_type": "stream",
     "text": [
      "Got stderr: set. 03, 2023 9:17:43 PM org.apache.pdfbox.pdmodel.font.PDSimpleFont toUnicode\r\n",
      "WARNING: No Unicode mapping for .notdef (9) in font Helvetica\r\n",
      "\n"
     ]
    }
   ],
   "source": [
    "diretorio = os.fsencode(\"pdfs\")\n",
    "\n",
    "for file in os.listdir(diretorio):\n",
    "    nome_arquivo = os.fsdecode(file)\n",
    "    caminho_arquivo = f\"pdfs/{nome_arquivo}\"\n",
    "    \n",
    "    lista_tabelas = tabula.read_pdf(caminho_arquivo, pages=\"all\", encoding=\"latin-1\")\n",
    "    \n",
    "    disciplina = []\n",
    "    docente = []\n",
    "    turma = []\n",
    "\n",
    "    with open(caminho_arquivo, 'rb') as arq:\n",
    "        reader = PdfReader(arq) # não sei o que faz (implementar explicação)\n",
    "        for page in reader.pages:\n",
    "            texto = page.extract_text()\n",
    "\n",
    "            # o processo de extração da turma, disciplina e docente funciona\n",
    "            # utilizando o método find, que recebe uma string e retorna\n",
    "            # o index da primeira ocorrência dessa string\n",
    "\n",
    "            # caso o método não encontre a string recebemos -1 como retorno\n",
    "\n",
    "            # o método find também pode receber um parâmetro para buscar a string\n",
    "            # a partir de um index especificado\n",
    "\n",
    "            # por fim realizamos o corte na string utilizando o index_inicial e o index_final da nossa busca\n",
    "\n",
    "            index_inicial = texto.find(\"Lista de Notas e Faltas\")\n",
    "            if index_inicial != -1:\n",
    "                # extração turma\n",
    "                turma_inicio = texto.find(\"Turma\", index_inicial)\n",
    "                turma_inicio = texto.find(' ', turma_inicio) + 1\n",
    "                turma_fim = texto.find(' ', turma_inicio)\n",
    "                turma.append(texto[turma_inicio:turma_fim])\n",
    "\n",
    "                # extração disciplina\n",
    "                disciplina_inicio = texto.find(\"Disciplina\", index_inicial)\n",
    "                disciplina_inicio = texto.find(\"-\", disciplina_inicio) + 2\n",
    "                disciplina_fim = texto.find('\\n', disciplina_inicio)\n",
    "                disciplina.append(texto[disciplina_inicio:disciplina_fim])\n",
    "\n",
    "            # extração docente\n",
    "            # tive um problema quando o docente estava a definir, onde o extrator puxava\n",
    "            # as informações erradas\n",
    "\n",
    "            docente_inicio = texto.find(\"Docente(s)\")\n",
    "            if docente_inicio != -1:\n",
    "                docente_inicio = texto.find(\" \", docente_inicio) + 1\n",
    "                turma_inicio = texto.find(\"Ano/Semestre\", docente_inicio)\n",
    "                if turma_inicio - docente_inicio > 0:\n",
    "                    docente_fim = texto.find(\"-\", docente_inicio) - 1\n",
    "                    docente.append(texto[docente_inicio:docente_fim])\n",
    "                else:\n",
    "                    docente.append(\"A DEFINIR DOCENTE\")\n",
    "                    \n",
    "\n",
    "    tabelas_nota = [] # nova lista para as tabelas que contém notas\n",
    "    for tabela in lista_tabelas:\n",
    "        if len(tabela.columns) == 12:\n",
    "            tabela.drop([0, 1, 2, 3], inplace=True)\n",
    "            tabela.drop(tabela.columns[0], axis=1, inplace=True)\n",
    "            tabela.fillna(-1, inplace=True)\n",
    "            tabela[tabela.columns[[2, 3, 4, 5, 6, 7, 8]]] = tabela[tabela.columns[[2, 3, 4, 5, 6, 7, 8]]].applymap(lambda x: x.replace(',','.') if isinstance(x, str) else x).astype(float)\n",
    "            tabelas_nota.append(tabela)\n",
    "    \n",
    "    for i, tabela in enumerate(tabelas_nota):\n",
    "        tabela.insert(0, 'turma', turma[i])\n",
    "        tabela.insert(1, 'disciplina', disciplina[i])\n",
    "        tabela.insert(2, 'docente', docente[i])\n",
    "    \n",
    "    tabela = pd.concat(tabelas_nota)\n",
    "    tabela.columns.values[3] = \"matricula\"\n",
    "    tabela.columns.values[4] = \"nome\"\n",
    "    tabela.columns.values[5] = \"aval_1\"\n",
    "    tabela.columns.values[6] = \"aval_2\"\n",
    "    tabela.columns.values[7] = \"aval_3\"\n",
    "    tabela.columns.values[8] = \"aval_4\"\n",
    "    tabela.columns.values[9] = \"media_parcial\"\n",
    "    tabela.columns.values[10] = \"exame_final\"\n",
    "    tabela.columns.values[11] = \"media_final\"\n",
    "    tabela.columns.values[12] = \"total_faltas\"\n",
    "    tabela.columns.values[13] = \"resultado\"\n",
    "    \n",
    "    tabela.to_csv(f\"resultados/{nome_arquivo[:-4]}.csv\", index=False)"
   ]
  },
  {
   "cell_type": "code",
   "execution_count": 3,
   "id": "7755c9c4",
   "metadata": {},
   "outputs": [],
   "source": [
    "# erro se não incluir encoding=\"latin-1\"\n",
    "# se deve ao fato de haver diferentes caracteres\n"
   ]
  },
  {
   "cell_type": "code",
   "execution_count": 4,
   "id": "0f2f8613",
   "metadata": {
    "scrolled": false
   },
   "outputs": [],
   "source": [
    "# definindo as variáveis que vou extrair\n"
   ]
  },
  {
   "cell_type": "code",
   "execution_count": 5,
   "id": "8fd2e879",
   "metadata": {},
   "outputs": [],
   "source": [
    "# percebi que não há padrão entre a distância entre as tabelas de notas\n",
    "# então fiz a filtragem baseada em número de colunas, visto que todas as tabelas de notas tem 12 colunas\n"
   ]
  },
  {
   "cell_type": "code",
   "execution_count": null,
   "id": "c37ba557",
   "metadata": {},
   "outputs": [],
   "source": []
  },
  {
   "cell_type": "code",
   "execution_count": null,
   "id": "885b8550",
   "metadata": {},
   "outputs": [],
   "source": []
  },
  {
   "cell_type": "code",
   "execution_count": null,
   "id": "d7aed3fb",
   "metadata": {},
   "outputs": [],
   "source": []
  }
 ],
 "metadata": {
  "kernelspec": {
   "display_name": "Python 3 (ipykernel)",
   "language": "python",
   "name": "python3"
  },
  "language_info": {
   "codemirror_mode": {
    "name": "ipython",
    "version": 3
   },
   "file_extension": ".py",
   "mimetype": "text/x-python",
   "name": "python",
   "nbconvert_exporter": "python",
   "pygments_lexer": "ipython3",
   "version": "3.11.4"
  }
 },
 "nbformat": 4,
 "nbformat_minor": 5
}
